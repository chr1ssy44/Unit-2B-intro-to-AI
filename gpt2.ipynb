{
 "cells": [
  {
   "cell_type": "code",
   "execution_count": 2,
   "metadata": {},
   "outputs": [
    {
     "name": "stderr",
     "output_type": "stream",
     "text": [
      "Fetching checkpoint: 1.05Mit [00:00, 2.00Git/s]                                                     \n",
      "Fetching encoder.json: 1.05Mit [00:03, 308kit/s]                                                    \n",
      "Fetching hparams.json: 1.05Mit [00:00, 5.99Git/s]                                                   \n",
      "Fetching model.ckpt.data-00000-of-00001: 498Mit [18:52, 440kit/s]                                   \n",
      "Fetching model.ckpt.index: 1.05Mit [00:00, 2.59Git/s]                                               \n",
      "Fetching model.ckpt.meta: 1.05Mit [00:00, 1.40Mit/s]                                                \n",
      "Fetching vocab.bpe: 1.05Mit [00:00, 1.91Mit/s]                                                      \n"
     ]
    }
   ],
   "source": [
    "import gpt_2_simple as gpt2\n",
    "\n",
    "# gpt2.download_gpt2(model_name='124M')"
   ]
  }
 ],
 "metadata": {
  "kernelspec": {
   "display_name": "Python 3",
   "language": "python",
   "name": "python3"
  },
  "language_info": {
   "codemirror_mode": {
    "name": "ipython",
    "version": 3
   },
   "file_extension": ".py",
   "mimetype": "text/x-python",
   "name": "python",
   "nbconvert_exporter": "python",
   "pygments_lexer": "ipython3",
   "version": "3.10.9"
  },
  "orig_nbformat": 4
 },
 "nbformat": 4,
 "nbformat_minor": 2
}
